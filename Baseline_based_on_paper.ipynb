{
  "nbformat": 4,
  "nbformat_minor": 0,
  "metadata": {
    "colab": {
      "name": "Baseline_based_on_paper.ipynb",
      "provenance": [],
      "collapsed_sections": []
    },
    "kernelspec": {
      "name": "python3",
      "display_name": "Python 3"
    },
    "language_info": {
      "name": "python"
    }
  },
  "cells": [
    {
      "cell_type": "markdown",
      "source": [
        "# Revised baseline based on https://www.medrxiv.org/content/10.1101/2021.10.07.21264416v1.full.pdf"
      ],
      "metadata": {
        "id": "jOIc8I-womkT"
      }
    },
    {
      "cell_type": "code",
      "source": [
        "!pip install python-javabridge\n",
        "!pip install python-weka-wrapper3\n",
        "!pip install arff\n"
      ],
      "metadata": {
        "colab": {
          "base_uri": "https://localhost:8080/"
        },
        "id": "4kMu3hCzhYZd",
        "outputId": "331734fb-db25-4789-be77-b28c2beb05c2"
      },
      "execution_count": 2,
      "outputs": [
        {
          "output_type": "stream",
          "name": "stdout",
          "text": [
            "Requirement already satisfied: python-javabridge in /usr/local/lib/python3.7/dist-packages (4.0.3)\n",
            "Requirement already satisfied: numpy>=1.20.1 in /usr/local/lib/python3.7/dist-packages (from python-javabridge) (1.21.5)\n",
            "Requirement already satisfied: python-weka-wrapper3 in /usr/local/lib/python3.7/dist-packages (0.2.7)\n",
            "Requirement already satisfied: numpy in /usr/local/lib/python3.7/dist-packages (from python-weka-wrapper3) (1.21.5)\n",
            "Requirement already satisfied: python-javabridge>=4.0.0 in /usr/local/lib/python3.7/dist-packages (from python-weka-wrapper3) (4.0.3)\n",
            "Requirement already satisfied: packaging in /usr/local/lib/python3.7/dist-packages (from python-weka-wrapper3) (21.3)\n",
            "Requirement already satisfied: pyparsing!=3.0.5,>=2.0.2 in /usr/local/lib/python3.7/dist-packages (from packaging->python-weka-wrapper3) (3.0.7)\n",
            "Requirement already satisfied: arff in /usr/local/lib/python3.7/dist-packages (0.9)\n"
          ]
        }
      ]
    },
    {
      "cell_type": "code",
      "source": [
        "import pandas as pd\n",
        "from pandas.core.frame import DataFrame\n",
        "import numpy as np\n",
        "from sklearn.preprocessing import OneHotEncoder, LabelEncoder, StandardScaler\n",
        "from sklearn.model_selection import train_test_split\n",
        "from sklearn.utils import column_or_1d\n",
        "import arff\n",
        "import weka.core.jvm as jvm\n",
        "from weka.core.converters import Loader\n",
        "from weka.attribute_selection import ASSearch\n",
        "from weka.attribute_selection import ASEvaluation\n",
        "from weka.attribute_selection import AttributeSelection\n",
        "import weka\n",
        "from typing import Tuple, Any, Union\n",
        "import random\n",
        "import pickle\n",
        "import uuid"
      ],
      "metadata": {
        "id": "hr04hxjXoqWh"
      },
      "execution_count": 3,
      "outputs": []
    },
    {
      "cell_type": "code",
      "source": [
        "##TODO: change directory to cwd if run on colab\n",
        "%cd /content/drive/MyDrive/Colab Notebooks/vogel\n",
        "%ls"
      ],
      "metadata": {
        "id": "xD-gNsCXoufH",
        "colab": {
          "base_uri": "https://localhost:8080/"
        },
        "outputId": "dd8448e1-22b9-4d8f-a97c-96696a82ca0e"
      },
      "execution_count": 4,
      "outputs": [
        {
          "output_type": "stream",
          "name": "stdout",
          "text": [
            "/content/drive/MyDrive/Colab Notebooks/vogel\n",
            " Baseline.ipynb\n",
            "'Copy of Glycomics_UGA4_Day0Day28.xlsx'\n",
            "'Copy of Metabolomics_UGA4_D0toDay28.xlsx'\n",
            "'Copy of metabolomics_UGA4_global_median_normalized_sample_only.quantified.txt'\n",
            "'Copy of metabolomics_UGA4_untargeted_median_normalized_sample_only.quantified.txt'\n",
            "'Copy of Proteomics_UGA4_Day0.xlsx'\n",
            "'Copy of Transcriptomics_UGA4_day0_logCPMcounts.xlsx'\n",
            " data.arff\n",
            " data_inspect.ipynb\n",
            "'fluvacc metadata - UGA1-5 - 1368 entries with clear vacc status - for figures.txt'\n",
            " meta.txt\n"
          ]
        }
      ]
    },
    {
      "cell_type": "code",
      "source": [
        "df = pd.read_csv(\"fluvacc metadata - UGA1-5 - 1368 entries with clear vacc status - for figures.txt\", sep=\"\\t\")  ##TODO: put the name of the file here\n",
        "df.head()"
      ],
      "metadata": {
        "id": "JLXCMq78oy3x",
        "colab": {
          "base_uri": "https://localhost:8080/",
          "height": 334
        },
        "outputId": "604113bd-ba15-4722-8763-3535ecc10950"
      },
      "execution_count": 5,
      "outputs": [
        {
          "output_type": "execute_result",
          "data": {
            "text/html": [
              "\n",
              "  <div id=\"df-d8ff96ab-9ba5-442a-8b0d-1316afcd7467\">\n",
              "    <div class=\"colab-df-container\">\n",
              "      <div>\n",
              "<style scoped>\n",
              "    .dataframe tbody tr th:only-of-type {\n",
              "        vertical-align: middle;\n",
              "    }\n",
              "\n",
              "    .dataframe tbody tr th {\n",
              "        vertical-align: top;\n",
              "    }\n",
              "\n",
              "    .dataframe thead th {\n",
              "        text-align: right;\n",
              "    }\n",
              "</style>\n",
              "<table border=\"1\" class=\"dataframe\">\n",
              "  <thead>\n",
              "    <tr style=\"text-align: right;\">\n",
              "      <th></th>\n",
              "      <th>Cohort</th>\n",
              "      <th>ID</th>\n",
              "      <th>Age</th>\n",
              "      <th>BMI</th>\n",
              "      <th>BMI_category</th>\n",
              "      <th>Gender</th>\n",
              "      <th>Race</th>\n",
              "      <th>Comorbidities</th>\n",
              "      <th>PreVacc_status</th>\n",
              "      <th>PreVacc_status_year</th>\n",
              "      <th>...</th>\n",
              "      <th>SC_category_IBV_Yam</th>\n",
              "      <th>SC_category_IBV_Vic</th>\n",
              "      <th>Composite_SC_category</th>\n",
              "      <th>Serostatus_H1N1</th>\n",
              "      <th>Serostatus_H3N2</th>\n",
              "      <th>Serostatus_IBV_Yam</th>\n",
              "      <th>Serostatus_IBV_Vic</th>\n",
              "      <th>Num_SeroPos_strains</th>\n",
              "      <th>Baseline_category_Num_SeroPos_strains</th>\n",
              "      <th>Composite_baseline</th>\n",
              "    </tr>\n",
              "  </thead>\n",
              "  <tbody>\n",
              "    <tr>\n",
              "      <th>0</th>\n",
              "      <td>UGA1</td>\n",
              "      <td>A10</td>\n",
              "      <td>25</td>\n",
              "      <td>33.71</td>\n",
              "      <td>Obese</td>\n",
              "      <td>Male</td>\n",
              "      <td>White</td>\n",
              "      <td>No</td>\n",
              "      <td>Prevaccinated</td>\n",
              "      <td>Year_0</td>\n",
              "      <td>...</td>\n",
              "      <td>None</td>\n",
              "      <td>None</td>\n",
              "      <td>None</td>\n",
              "      <td>1</td>\n",
              "      <td>1</td>\n",
              "      <td>1</td>\n",
              "      <td>1</td>\n",
              "      <td>4</td>\n",
              "      <td>High</td>\n",
              "      <td>35.0</td>\n",
              "    </tr>\n",
              "    <tr>\n",
              "      <th>1</th>\n",
              "      <td>UGA1</td>\n",
              "      <td>A100</td>\n",
              "      <td>47</td>\n",
              "      <td>33.37</td>\n",
              "      <td>Obese</td>\n",
              "      <td>Female</td>\n",
              "      <td>White</td>\n",
              "      <td>No</td>\n",
              "      <td>Prevaccinated</td>\n",
              "      <td>Year_0</td>\n",
              "      <td>...</td>\n",
              "      <td>None</td>\n",
              "      <td>High</td>\n",
              "      <td>Low</td>\n",
              "      <td>0</td>\n",
              "      <td>0</td>\n",
              "      <td>1</td>\n",
              "      <td>0</td>\n",
              "      <td>1</td>\n",
              "      <td>Low</td>\n",
              "      <td>18.0</td>\n",
              "    </tr>\n",
              "    <tr>\n",
              "      <th>2</th>\n",
              "      <td>UGA1</td>\n",
              "      <td>A101</td>\n",
              "      <td>30</td>\n",
              "      <td>24.99</td>\n",
              "      <td>Normal</td>\n",
              "      <td>Male</td>\n",
              "      <td>Non-white</td>\n",
              "      <td>Yes</td>\n",
              "      <td>Naive</td>\n",
              "      <td>Year_3</td>\n",
              "      <td>...</td>\n",
              "      <td>High</td>\n",
              "      <td>High</td>\n",
              "      <td>High</td>\n",
              "      <td>0</td>\n",
              "      <td>0</td>\n",
              "      <td>1</td>\n",
              "      <td>1</td>\n",
              "      <td>2</td>\n",
              "      <td>Low</td>\n",
              "      <td>21.0</td>\n",
              "    </tr>\n",
              "    <tr>\n",
              "      <th>3</th>\n",
              "      <td>UGA1</td>\n",
              "      <td>A102</td>\n",
              "      <td>47</td>\n",
              "      <td>25.00</td>\n",
              "      <td>Overweight</td>\n",
              "      <td>Male</td>\n",
              "      <td>White</td>\n",
              "      <td>No</td>\n",
              "      <td>Naive</td>\n",
              "      <td>Year_3</td>\n",
              "      <td>...</td>\n",
              "      <td>Low</td>\n",
              "      <td>High</td>\n",
              "      <td>High</td>\n",
              "      <td>1</td>\n",
              "      <td>1</td>\n",
              "      <td>1</td>\n",
              "      <td>0</td>\n",
              "      <td>3</td>\n",
              "      <td>High</td>\n",
              "      <td>25.0</td>\n",
              "    </tr>\n",
              "    <tr>\n",
              "      <th>4</th>\n",
              "      <td>UGA1</td>\n",
              "      <td>A103</td>\n",
              "      <td>20</td>\n",
              "      <td>22.10</td>\n",
              "      <td>Normal</td>\n",
              "      <td>Female</td>\n",
              "      <td>Non-white</td>\n",
              "      <td>No</td>\n",
              "      <td>Naive</td>\n",
              "      <td>Year_3</td>\n",
              "      <td>...</td>\n",
              "      <td>High</td>\n",
              "      <td>High</td>\n",
              "      <td>High</td>\n",
              "      <td>1</td>\n",
              "      <td>1</td>\n",
              "      <td>1</td>\n",
              "      <td>1</td>\n",
              "      <td>4</td>\n",
              "      <td>High</td>\n",
              "      <td>21.0</td>\n",
              "    </tr>\n",
              "  </tbody>\n",
              "</table>\n",
              "<p>5 rows × 37 columns</p>\n",
              "</div>\n",
              "      <button class=\"colab-df-convert\" onclick=\"convertToInteractive('df-d8ff96ab-9ba5-442a-8b0d-1316afcd7467')\"\n",
              "              title=\"Convert this dataframe to an interactive table.\"\n",
              "              style=\"display:none;\">\n",
              "        \n",
              "  <svg xmlns=\"http://www.w3.org/2000/svg\" height=\"24px\"viewBox=\"0 0 24 24\"\n",
              "       width=\"24px\">\n",
              "    <path d=\"M0 0h24v24H0V0z\" fill=\"none\"/>\n",
              "    <path d=\"M18.56 5.44l.94 2.06.94-2.06 2.06-.94-2.06-.94-.94-2.06-.94 2.06-2.06.94zm-11 1L8.5 8.5l.94-2.06 2.06-.94-2.06-.94L8.5 2.5l-.94 2.06-2.06.94zm10 10l.94 2.06.94-2.06 2.06-.94-2.06-.94-.94-2.06-.94 2.06-2.06.94z\"/><path d=\"M17.41 7.96l-1.37-1.37c-.4-.4-.92-.59-1.43-.59-.52 0-1.04.2-1.43.59L10.3 9.45l-7.72 7.72c-.78.78-.78 2.05 0 2.83L4 21.41c.39.39.9.59 1.41.59.51 0 1.02-.2 1.41-.59l7.78-7.78 2.81-2.81c.8-.78.8-2.07 0-2.86zM5.41 20L4 18.59l7.72-7.72 1.47 1.35L5.41 20z\"/>\n",
              "  </svg>\n",
              "      </button>\n",
              "      \n",
              "  <style>\n",
              "    .colab-df-container {\n",
              "      display:flex;\n",
              "      flex-wrap:wrap;\n",
              "      gap: 12px;\n",
              "    }\n",
              "\n",
              "    .colab-df-convert {\n",
              "      background-color: #E8F0FE;\n",
              "      border: none;\n",
              "      border-radius: 50%;\n",
              "      cursor: pointer;\n",
              "      display: none;\n",
              "      fill: #1967D2;\n",
              "      height: 32px;\n",
              "      padding: 0 0 0 0;\n",
              "      width: 32px;\n",
              "    }\n",
              "\n",
              "    .colab-df-convert:hover {\n",
              "      background-color: #E2EBFA;\n",
              "      box-shadow: 0px 1px 2px rgba(60, 64, 67, 0.3), 0px 1px 3px 1px rgba(60, 64, 67, 0.15);\n",
              "      fill: #174EA6;\n",
              "    }\n",
              "\n",
              "    [theme=dark] .colab-df-convert {\n",
              "      background-color: #3B4455;\n",
              "      fill: #D2E3FC;\n",
              "    }\n",
              "\n",
              "    [theme=dark] .colab-df-convert:hover {\n",
              "      background-color: #434B5C;\n",
              "      box-shadow: 0px 1px 3px 1px rgba(0, 0, 0, 0.15);\n",
              "      filter: drop-shadow(0px 1px 2px rgba(0, 0, 0, 0.3));\n",
              "      fill: #FFFFFF;\n",
              "    }\n",
              "  </style>\n",
              "\n",
              "      <script>\n",
              "        const buttonEl =\n",
              "          document.querySelector('#df-d8ff96ab-9ba5-442a-8b0d-1316afcd7467 button.colab-df-convert');\n",
              "        buttonEl.style.display =\n",
              "          google.colab.kernel.accessAllowed ? 'block' : 'none';\n",
              "\n",
              "        async function convertToInteractive(key) {\n",
              "          const element = document.querySelector('#df-d8ff96ab-9ba5-442a-8b0d-1316afcd7467');\n",
              "          const dataTable =\n",
              "            await google.colab.kernel.invokeFunction('convertToInteractive',\n",
              "                                                     [key], {});\n",
              "          if (!dataTable) return;\n",
              "\n",
              "          const docLinkHtml = 'Like what you see? Visit the ' +\n",
              "            '<a target=\"_blank\" href=https://colab.research.google.com/notebooks/data_table.ipynb>data table notebook</a>'\n",
              "            + ' to learn more about interactive tables.';\n",
              "          element.innerHTML = '';\n",
              "          dataTable['output_type'] = 'display_data';\n",
              "          await google.colab.output.renderOutput(dataTable, element);\n",
              "          const docLink = document.createElement('div');\n",
              "          docLink.innerHTML = docLinkHtml;\n",
              "          element.appendChild(docLink);\n",
              "        }\n",
              "      </script>\n",
              "    </div>\n",
              "  </div>\n",
              "  "
            ],
            "text/plain": [
              "  Cohort    ID  Age    BMI BMI_category  Gender       Race Comorbidities  \\\n",
              "0   UGA1   A10   25  33.71        Obese    Male      White            No   \n",
              "1   UGA1  A100   47  33.37        Obese  Female      White            No   \n",
              "2   UGA1  A101   30  24.99       Normal    Male  Non-white           Yes   \n",
              "3   UGA1  A102   47  25.00   Overweight    Male      White            No   \n",
              "4   UGA1  A103   20  22.10       Normal  Female  Non-white            No   \n",
              "\n",
              "  PreVacc_status PreVacc_status_year  ... SC_category_IBV_Yam  \\\n",
              "0  Prevaccinated              Year_0  ...                None   \n",
              "1  Prevaccinated              Year_0  ...                None   \n",
              "2          Naive              Year_3  ...                High   \n",
              "3          Naive              Year_3  ...                 Low   \n",
              "4          Naive              Year_3  ...                High   \n",
              "\n",
              "  SC_category_IBV_Vic  Composite_SC_category  Serostatus_H1N1  \\\n",
              "0                None                   None                1   \n",
              "1                High                    Low                0   \n",
              "2                High                   High                0   \n",
              "3                High                   High                1   \n",
              "4                High                   High                1   \n",
              "\n",
              "   Serostatus_H3N2  Serostatus_IBV_Yam  Serostatus_IBV_Vic  \\\n",
              "0                1                   1                   1   \n",
              "1                0                   1                   0   \n",
              "2                0                   1                   1   \n",
              "3                1                   1                   0   \n",
              "4                1                   1                   1   \n",
              "\n",
              "   Num_SeroPos_strains  Baseline_category_Num_SeroPos_strains  \\\n",
              "0                    4                                   High   \n",
              "1                    1                                    Low   \n",
              "2                    2                                    Low   \n",
              "3                    3                                   High   \n",
              "4                    4                                   High   \n",
              "\n",
              "   Composite_baseline  \n",
              "0                35.0  \n",
              "1                18.0  \n",
              "2                21.0  \n",
              "3                25.0  \n",
              "4                21.0  \n",
              "\n",
              "[5 rows x 37 columns]"
            ]
          },
          "metadata": {},
          "execution_count": 5
        }
      ]
    },
    {
      "cell_type": "code",
      "source": [
        "for column in df:\n",
        "  print(column, sorted(df[column].unique()))"
      ],
      "metadata": {
        "id": "50SBT8lwo0mI",
        "colab": {
          "base_uri": "https://localhost:8080/"
        },
        "outputId": "1c698aeb-d850-4ec3-a8e0-04fa1096d4af"
      },
      "execution_count": 6,
      "outputs": [
        {
          "output_type": "stream",
          "name": "stdout",
          "text": [
            "Cohort ['UGA1', 'UGA2', 'UGA3', 'UGA4', 'UGA5']\n",
            "ID ['A1', 'A10', 'A100', 'A101', 'A102', 'A103', 'A104', 'A105', 'A106', 'A107', 'A108', 'A109', 'A11', 'A110', 'A111', 'A112', 'A113', 'A114', 'A115', 'A116', 'A118', 'A119', 'A120', 'A122', 'A123', 'A124', 'A125', 'A126', 'A127', 'A128', 'A129', 'A13', 'A130', 'A131', 'A132', 'A133', 'A134', 'A135', 'A136', 'A137', 'A138', 'A139', 'A14', 'A140', 'A141', 'A142', 'A143', 'A144', 'A145', 'A146', 'A147', 'A148', 'A149', 'A15', 'A150', 'A151', 'A152', 'A154', 'A155', 'A156', 'A157', 'A158', 'A16', 'A160', 'A161', 'A162', 'A163', 'A165', 'A166', 'A168', 'A169', 'A17', 'A170', 'A171', 'A172', 'A174', 'A175', 'A176', 'A177', 'A178', 'A179', 'A18', 'A180', 'A181', 'A182', 'A184', 'A185', 'A186', 'A188', 'A19', 'A190', 'A191', 'A192', 'A193', 'A194', 'A195', 'A196', 'A197', 'A199', 'A2', 'A20', 'A200', 'A201', 'A203', 'A204', 'A205', 'A206', 'A207', 'A208', 'A209', 'A21', 'A210', 'A211', 'A212', 'A213', 'A214', 'A215', 'A216', 'A217', 'A218', 'A219', 'A22', 'A220', 'A221', 'A222', 'A223', 'A224', 'A225', 'A226', 'A227', 'A228', 'A229', 'A230', 'A231', 'A232', 'A233', 'A234', 'A235', 'A236', 'A237', 'A238', 'A239', 'A241', 'A243', 'A244', 'A245', 'A246', 'A247', 'A248', 'A249', 'A25', 'A250', 'A251', 'A252', 'A253', 'A254', 'A255', 'A257', 'A26', 'A260', 'A261', 'A262', 'A263', 'A264', 'A266', 'A267', 'A268', 'A269', 'A270', 'A271', 'A272', 'A273', 'A274', 'A275', 'A276', 'A277', 'A278', 'A279', 'A28', 'A280', 'A281', 'A282', 'A283', 'A284', 'A285', 'A286', 'A287', 'A288', 'A289', 'A29', 'A290', 'A291', 'A292', 'A293', 'A294', 'A295', 'A296', 'A297', 'A298', 'A299', 'A30', 'A300', 'A302', 'A303', 'A304', 'A305', 'A306', 'A307', 'A308', 'A309', 'A31', 'A310', 'A311', 'A312', 'A313', 'A314', 'A315', 'A316', 'A317', 'A318', 'A319', 'A32', 'A320', 'A321', 'A322', 'A323', 'A324', 'A325', 'A326', 'A327', 'A328', 'A329', 'A33', 'A330', 'A331', 'A332', 'A333', 'A334', 'A335', 'A336', 'A337', 'A338', 'A339', 'A34', 'A340', 'A341', 'A342', 'A343', 'A344', 'A345', 'A346', 'A347', 'A348', 'A349', 'A350', 'A351', 'A352', 'A353', 'A354', 'A355', 'A356', 'A357', 'A358', 'A359', 'A36', 'A360', 'A362', 'A363', 'A364', 'A365', 'A366', 'A367', 'A368', 'A369', 'A37', 'A370', 'A371', 'A372', 'A373', 'A374', 'A375', 'A376', 'A378', 'A379', 'A38', 'A380', 'A381', 'A383', 'A384', 'A385', 'A386', 'A387', 'A388', 'A389', 'A39', 'A390', 'A391', 'A392', 'A393', 'A394', 'A395', 'A396', 'A397', 'A399', 'A4', 'A400', 'A401', 'A402', 'A403', 'A404', 'A405', 'A406', 'A407', 'A408', 'A409', 'A410', 'A411', 'A412', 'A413', 'A414', 'A415', 'A416', 'A417', 'A418', 'A419', 'A42', 'A420', 'A421', 'A422', 'A423', 'A424', 'A425', 'A426', 'A427', 'A428', 'A429', 'A430', 'A431', 'A432', 'A433', 'A434', 'A436', 'A437', 'A438', 'A439', 'A44', 'A440', 'A441', 'A442', 'A443', 'A444', 'A445', 'A446', 'A447', 'A448', 'A449', 'A45', 'A450', 'A451', 'A452', 'A453', 'A454', 'A455', 'A456', 'A457', 'A458', 'A459', 'A46', 'A460', 'A461', 'A462', 'A463', 'A464', 'A465', 'A466', 'A467', 'A468', 'A469', 'A47', 'A470', 'A471', 'A472', 'A473', 'A474', 'A475', 'A476', 'A477', 'A478', 'A479', 'A48', 'A480', 'A481', 'A482', 'A483', 'A484', 'A485', 'A486', 'A487', 'A488', 'A489', 'A49', 'A490', 'A491', 'A492', 'A493', 'A494', 'A495', 'A496', 'A497', 'A498', 'A499', 'A5', 'A50', 'A500', 'A501', 'A502', 'A503', 'A504', 'A506', 'A507', 'A508', 'A509', 'A51', 'A510', 'A511', 'A512', 'A514', 'A516', 'A517', 'A518', 'A519', 'A52', 'A521', 'A522', 'A523', 'A524', 'A525', 'A527', 'A528', 'A529', 'A53', 'A531', 'A535', 'A539', 'A54', 'A540', 'A542', 'A549', 'A55', 'A56', 'A57', 'A58', 'A59', 'A60', 'A61', 'A62', 'A63', 'A64', 'A65', 'A66', 'A67', 'A68', 'A69', 'A7', 'A70', 'A71', 'A72', 'A73', 'A74', 'A75', 'A76', 'A77', 'A78', 'A79', 'A8', 'A81', 'A83', 'A84', 'A85', 'A86', 'A87', 'A88', 'A89', 'A9', 'A90', 'A91', 'A92', 'A93', 'A94', 'A95', 'A96', 'A97', 'A98', 'A99', 'C1', 'C10', 'C102', 'C103', 'C105', 'C106', 'C107', 'C108', 'C11', 'C110', 'C112', 'C113', 'C115', 'C116', 'C117', 'C118', 'C119', 'C12', 'C120', 'C121', 'C123', 'C124', 'C125', 'C126', 'C127', 'C128', 'C129', 'C13', 'C130', 'C133', 'C134', 'C136', 'C137', 'C138', 'C14', 'C141', 'C142', 'C143', 'C144', 'C145', 'C147', 'C148', 'C149', 'C15', 'C150', 'C151', 'C152', 'C153', 'C154', 'C155', 'C156', 'C157', 'C158', 'C159', 'C16', 'C160', 'C161', 'C162', 'C163', 'C165', 'C166', 'C167', 'C168', 'C169', 'C17', 'C170', 'C171', 'C172', 'C173', 'C174', 'C175', 'C178', 'C18', 'C180', 'C181', 'C182', 'C185', 'C186', 'C188', 'C190', 'C191', 'C192', 'C195', 'C196', 'C197', 'C198', 'C199', 'C20', 'C200', 'C202', 'C204', 'C207', 'C208', 'C21', 'C210', 'C22', 'C23', 'C24', 'C26', 'C27', 'C28', 'C29', 'C30', 'C31', 'C32', 'C33', 'C34', 'C35', 'C36', 'C37', 'C38', 'C39', 'C4', 'C40', 'C41', 'C42', 'C43', 'C44', 'C45', 'C46', 'C48', 'C49', 'C5', 'C50', 'C51', 'C52', 'C53', 'C54', 'C55', 'C56', 'C57', 'C58', 'C59', 'C6', 'C60', 'C61', 'C62', 'C64', 'C68', 'C69', 'C7', 'C70', 'C71', 'C72', 'C73', 'C74', 'C76', 'C77', 'C78', 'C8', 'C81', 'C83', 'C84', 'C85', 'C86', 'C87', 'C9', 'C90', 'C92', 'C93', 'C94', 'C96', 'C97', 'C99']\n",
            "Age [11, 12, 13, 14, 15, 16, 17, 18, 19, 20, 21, 22, 23, 24, 25, 26, 27, 28, 29, 30, 31, 32, 33, 34, 35, 36, 37, 38, 39, 40, 41, 42, 43, 44, 45, 46, 47, 48, 49, 50, 51, 52, 53, 54, 55, 56, 57, 58, 59, 60, 61, 62, 63, 64, 65, 66, 67, 68, 69, 70, 71, 72, 73, 74, 75, 76, 77, 78, 79, 80, 81, 82, 83, 85]\n",
            "BMI [14.54, 14.79, 14.86, 15.8, 15.84, 16.07, 16.46, 16.62, 16.7, 16.74, 16.79, 16.94, 17.06, 17.15, 17.36, 17.42, 17.43, 17.44, 17.45, 17.52, 17.57, 17.74, 17.75, 17.84, 17.92, 17.93, 18.12, 18.13, 18.17, 18.22, 18.23, 18.25, 18.27, 18.3, 18.32, 18.38, 18.43, 18.45, 18.46, 18.47, 18.48, 18.5, 18.52, 18.56, 18.61, 18.62, 18.63, 18.69, 18.74, 18.75, 18.76, 18.78, 18.79, 18.8, 18.81, 18.83, 18.86, 18.88, 18.97, 19.02, 19.06, 19.08, 19.09, 19.11, 19.14, 19.16, 19.17, 19.18, 19.19, 19.2, 19.23, 19.24, 19.26, 19.29, 19.3, 19.33, 19.35, 19.37, 19.39, 19.42, 19.44, 19.46, 19.47, 19.49, 19.54, 19.57, 19.58, 19.6, 19.62, 19.64, 19.67, 19.68, 19.69, 19.7, 19.71, 19.74, 19.75, 19.77, 19.8, 19.81, 19.82, 19.87, 19.88, 19.9, 19.91, 19.98, 19.99, 20.0, 20.01, 20.03, 20.05, 20.06, 20.08, 20.09, 20.1, 20.11, 20.14, 20.17, 20.19, 20.2, 20.23, 20.24, 20.25, 20.26, 20.27, 20.29, 20.31, 20.34, 20.35, 20.36, 20.4, 20.41, 20.45, 20.46, 20.49, 20.5, 20.51, 20.54, 20.55, 20.56, 20.58, 20.59, 20.61, 20.62, 20.64, 20.66, 20.69, 20.7, 20.72, 20.73, 20.76, 20.78, 20.81, 20.82, 20.84, 20.86, 20.88, 20.9, 20.91, 20.94, 20.95, 20.97, 20.98, 20.99, 21.03, 21.04, 21.05, 21.06, 21.07, 21.08, 21.09, 21.1, 21.12, 21.14, 21.16, 21.18, 21.23, 21.24, 21.25, 21.26, 21.28, 21.29, 21.3, 21.32, 21.33, 21.34, 21.39, 21.42, 21.44, 21.45, 21.51, 21.54, 21.55, 21.56, 21.57, 21.58, 21.6, 21.63, 21.64, 21.66, 21.68, 21.69, 21.74, 21.75, 21.76, 21.77, 21.78, 21.79, 21.81, 21.84, 21.85, 21.91, 21.96, 21.98, 21.99, 22.0, 22.02, 22.03, 22.06, 22.07, 22.09, 22.1, 22.12, 22.13, 22.14, 22.15, 22.18, 22.19, 22.2, 22.21, 22.22, 22.23, 22.25, 22.27, 22.28, 22.29, 22.3, 22.31, 22.32, 22.33, 22.36, 22.38, 22.41, 22.42, 22.44, 22.45, 22.46, 22.5, 22.51, 22.52, 22.53, 22.54, 22.55, 22.56, 22.57, 22.58, 22.59, 22.6, 22.63, 22.65, 22.66, 22.67, 22.68, 22.69, 22.75, 22.78, 22.81, 22.82, 22.86, 22.87, 22.88, 22.9, 22.93, 22.94, 22.96, 22.98, 23.0, 23.01, 23.03, 23.05, 23.06, 23.08, 23.09, 23.1, 23.12, 23.13, 23.14, 23.15, 23.16, 23.18, 23.2, 23.21, 23.23, 23.24, 23.25, 23.28, 23.29, 23.3, 23.31, 23.34, 23.37, 23.4, 23.41, 23.42, 23.44, 23.45, 23.46, 23.49, 23.5, 23.52, 23.54, 23.6, 23.61, 23.62, 23.66, 23.68, 23.7, 23.71, 23.72, 23.74, 23.75, 23.76, 23.77, 23.8, 23.83, 23.84, 23.88, 23.9, 23.91, 23.92, 23.93, 23.94, 23.95, 23.96, 23.97, 24.0, 24.02, 24.03, 24.04, 24.06, 24.07, 24.08, 24.09, 24.11, 24.12, 24.14, 24.15, 24.19, 24.21, 24.23, 24.24, 24.25, 24.28, 24.31, 24.33, 24.36, 24.4, 24.41, 24.42, 24.43, 24.44, 24.45, 24.46, 24.47, 24.5, 24.55, 24.58, 24.61, 24.62, 24.63, 24.67, 24.69, 24.7, 24.72, 24.73, 24.74, 24.77, 24.79, 24.8, 24.81, 24.82, 24.85, 24.86, 24.87, 24.89, 24.91, 24.93, 24.94, 24.95, 24.96, 24.97, 24.98, 24.99, 25.0, 25.03, 25.05, 25.06, 25.07, 25.09, 25.1, 25.12, 25.13, 25.18, 25.22, 25.23, 25.24, 25.29, 25.3, 25.31, 25.32, 25.33, 25.34, 25.37, 25.38, 25.39, 25.4, 25.42, 25.43, 25.44, 25.47, 25.48, 25.5, 25.55, 25.56, 25.57, 25.59, 25.6, 25.61, 25.62, 25.64, 25.66, 25.67, 25.68, 25.71, 25.73, 25.74, 25.76, 25.79, 25.81, 25.83, 25.84, 25.88, 25.89, 25.9, 25.93, 25.94, 25.96, 25.97, 25.98, 25.99, 26.0, 26.01, 26.03, 26.04, 26.1, 26.12, 26.14, 26.15, 26.16, 26.2, 26.21, 26.22, 26.27, 26.28, 26.3, 26.31, 26.33, 26.34, 26.35, 26.36, 26.38, 26.39, 26.4, 26.41, 26.42, 26.49, 26.51, 26.52, 26.55, 26.57, 26.58, 26.61, 26.62, 26.63, 26.64, 26.65, 26.66, 26.69, 26.7, 26.72, 26.8, 26.81, 26.84, 26.86, 26.87, 26.88, 26.89, 26.9, 26.92, 26.94, 26.95, 26.97, 26.98, 27.0, 27.02, 27.03, 27.04, 27.07, 27.08, 27.1, 27.11, 27.12, 27.14, 27.16, 27.17, 27.21, 27.24, 27.26, 27.27, 27.28, 27.29, 27.3, 27.31, 27.33, 27.34, 27.36, 27.37, 27.38, 27.41, 27.42, 27.45, 27.48, 27.49, 27.5, 27.53, 27.55, 27.57, 27.58, 27.59, 27.61, 27.64, 27.65, 27.67, 27.68, 27.71, 27.73, 27.74, 27.75, 27.79, 27.81, 27.82, 27.84, 27.85, 27.86, 27.9, 27.91, 27.93, 27.94, 27.95, 27.98, 27.99, 28.01, 28.02, 28.03, 28.05, 28.06, 28.07, 28.08, 28.11, 28.12, 28.13, 28.15, 28.17, 28.18, 28.19, 28.21, 28.22, 28.23, 28.25, 28.27, 28.3, 28.31, 28.34, 28.35, 28.44, 28.45, 28.46, 28.47, 28.49, 28.5, 28.51, 28.52, 28.53, 28.57, 28.59, 28.61, 28.63, 28.65, 28.67, 28.69, 28.7, 28.71, 28.76, 28.82, 28.83, 28.84, 28.85, 28.88, 28.89, 28.9, 28.93, 28.94, 28.96, 28.97, 28.99, 29.0, 29.01, 29.03, 29.07, 29.08, 29.1, 29.12, 29.13, 29.14, 29.16, 29.17, 29.18, 29.19, 29.2, 29.25, 29.26, 29.27, 29.29, 29.3, 29.33, 29.34, 29.35, 29.37, 29.38, 29.39, 29.4, 29.41, 29.52, 29.53, 29.54, 29.57, 29.59, 29.63, 29.7, 29.72, 29.73, 29.77, 29.78, 29.8, 29.82, 29.84, 29.85, 29.87, 29.9, 29.96, 29.97, 29.98, 30.07, 30.08, 30.1, 30.14, 30.18, 30.2, 30.21, 30.22, 30.25, 30.26, 30.27, 30.34, 30.35, 30.38, 30.43, 30.44, 30.47, 30.51, 30.52, 30.54, 30.57, 30.6, 30.61, 30.62, 30.63, 30.64, 30.7, 30.72, 30.74, 30.78, 30.79, 30.82, 30.86, 30.9, 30.93, 30.94, 30.95, 30.98, 30.99, 31.06, 31.09, 31.13, 31.15, 31.17, 31.2, 31.21, 31.23, 31.25, 31.29, 31.32, 31.35, 31.39, 31.4, 31.41, 31.45, 31.46, 31.48, 31.52, 31.55, 31.57, 31.58, 31.59, 31.6, 31.61, 31.64, 31.66, 31.7, 31.71, 31.72, 31.73, 31.74, 31.75, 31.77, 31.78, 31.8, 31.86, 31.91, 31.94, 31.95, 31.98, 31.99, 32.02, 32.03, 32.09, 32.12, 32.13, 32.14, 32.21, 32.23, 32.25, 32.26, 32.32, 32.37, 32.38, 32.43, 32.45, 32.48, 32.55, 32.56, 32.58, 32.59, 32.68, 32.69, 32.75, 32.76, 32.78, 32.81, 32.82, 32.85, 32.86, 32.88, 32.9, 32.94, 32.98, 33.02, 33.04, 33.12, 33.14, 33.15, 33.19, 33.2, 33.23, 33.32, 33.35, 33.36, 33.37, 33.38, 33.4, 33.45, 33.47, 33.49, 33.51, 33.54, 33.6, 33.62, 33.65, 33.67, 33.71, 33.79, 33.84, 33.9, 33.93, 33.96, 34.04, 34.12, 34.18, 34.22, 34.26, 34.27, 34.33, 34.34, 34.35, 34.36, 34.37, 34.44, 34.54, 34.56, 34.6, 34.64, 34.65, 34.7, 34.71, 34.74, 34.77, 34.85, 34.88, 34.89, 34.91, 35.0, 35.04, 35.09, 35.15, 35.23, 35.29, 35.38, 35.45, 35.47, 35.48, 35.53, 35.62, 35.65, 35.71, 35.74, 35.76, 35.84, 35.89, 35.98, 36.05, 36.13, 36.15, 36.16, 36.2, 36.22, 36.32, 36.33, 36.37, 36.39, 36.44, 36.47, 36.57, 36.65, 36.66, 36.7, 36.75, 36.78, 36.8, 36.87, 36.89, 36.92, 36.98, 36.99, 37.06, 37.1, 37.22, 37.28, 37.36, 37.46, 37.47, 37.59, 37.66, 37.68, 37.74, 37.8, 38.05, 38.09, 38.13, 38.35, 38.38, 38.4, 38.43, 38.46, 38.56, 38.61, 38.66, 38.7, 38.84, 38.93, 38.95, 39.07, 39.13, 39.15, 39.29, 39.37, 39.57, 39.62, 39.68, 39.76, 39.93, 40.1, 40.15, 40.26, 40.68, 40.79, 40.93, 40.94, 41.01, 41.11, 41.13, 41.36, 41.44, 41.47, 41.6, 41.64, 41.76, 41.92, 42.1, 42.72, 42.87, 43.33, 43.75, 44.23, 44.43, 44.66, 44.79, 45.05, 45.48, 45.71, 45.81, 45.82, 46.28, 46.71, 48.74, 48.85, 49.03, 49.22, 49.34, 49.76, 50.49, 50.56, 52.14, 52.24, 52.61, 52.84, 59.11, 59.63, 59.88]\n",
            "BMI_category ['Lean', 'Normal', 'Normal ', 'Obese', 'Obese ', 'Overweight']\n",
            "Gender ['Female', 'Male']\n",
            "Race ['Non-white', 'White']\n",
            "Comorbidities ['No', 'Yes']\n",
            "PreVacc_status ['Naive', 'Prevaccinated']\n",
            "PreVacc_status_year ['Year_0', 'Year_3']\n",
            "Month_vaccinated ['Dec.', 'Feb.', 'Jan.', 'Nov.', 'Oct.', 'Sep.']\n",
            "Vaccine_dose ['High', 'Standard']\n",
            "D0_Titer_H1N1 [5, 10, 20, 40, 80, 160, 320, 640, 1280]\n",
            "D28_Titer_H1N1 [5, 10, 20, 40, 80, 160, 320, 640, 1280, 2560]\n",
            "D0_Titer_H3N2 [5, 10, 20, 40, 80, 160, 320, 640, 1280]\n",
            "D28_Titer_H3N2 [5, 10, 20, 40, 50, 80, 120, 160, 200, 320, 640, 960, 1280, 2560]\n",
            "D0_Titer_IBV_Yam [5, 10, 20, 40, 80, 160, 320, 640, 1280, 2560]\n",
            "D28_Titer_IBV_Yam [5, 10, 20, 40, 80, 160, 320, 640, 1280, 2560, 5120]\n",
            "D0_Titer_IBV_Vic [5, 10, 20, 40, 80, 160, 320, 640]\n",
            "D28_Titer_IBV_Vic [5, 10, 20, 40, 50, 80, 160, 320, 640, 1280, 2560]\n",
            "Seroconversion_H1N1 [-3, -2, -1, 0, 1, 2, 3, 4, 5, 6, 7, 8, 9]\n",
            "Seroconversion_H3N2 [-2.0, -1.0, 0.0, 1.0, 2.0, 2.32, 2.58, 3.0, 4.0, 4.58, 5.0, 5.58, 6.0, 7.0, 8.0]\n",
            "Seroconversion_IBV_Yam [-5, -3, -2, -1, 0, 1, 2, 3, 4, 5, 6, 7]\n",
            "Seroconversion_IBV_Vic [-3.0, -2.0, -1.0, 0.0, 1.0, 2.0, 2.32, 3.0, 4.0, 5.0, 6.0, 7.0, 8.0]\n",
            "Composite_seroconversion [-6.0, -5.0, -4.0, -3.0, -2.0, -1.0, 0.0, 1.0, 2.0, 3.0, 3.58, 4.0, 5.0, 5.32, 6.0, 7.0, 7.32, 7.58, 8.0, 8.32, 8.58, 9.0, 10.0, 11.0, 12.0, 13.0, 14.0, 15.0, 16.0, 17.0, 18.0, 19.0, 20.0, 21.0, 22.0, 23.0, 24.0, 25.0]\n",
            "SC_category_H1N1 ['High', 'Low', 'None']\n",
            "SC_category_H3N2 ['High', 'Low', 'None']\n",
            "SC_category_IBV_Yam ['High', 'Low', 'None']\n",
            "SC_category_IBV_Vic ['High', 'Low', 'None']\n",
            "Composite_SC_category ['High', 'Low', 'None']\n",
            "Serostatus_H1N1 [0, 1]\n",
            "Serostatus_H3N2 [0, 1]\n",
            "Serostatus_IBV_Yam [0, 1]\n",
            "Serostatus_IBV_Vic [0, 1]\n",
            "Num_SeroPos_strains [0, 1, 2, 3, 4]\n",
            "Baseline_category_Num_SeroPos_strains ['High', 'Low']\n",
            "Composite_baseline [9.0, 9.29, 10.0, 10.29, 11.0, 11.29, 12.0, 12.29, 13.0, 13.29, 14.0, 14.29, 15.0, 15.29, 16.0, 16.29, 17.0, 17.29, 18.0, 18.29, 19.0, 19.29, 20.0, 20.29, 21.0, 21.29, 22.0, 22.29, 23.0, 23.29, 24.0, 24.29, 25.0, 25.29, 26.0, 26.29, 27.0, 27.29, 28.0, 28.29, 29.0, 30.0, 30.29, 31.0, 32.0, 32.29, 33.0, 34.0, 35.0]\n"
          ]
        }
      ]
    },
    {
      "cell_type": "markdown",
      "source": [
        "# PreProcessing\n",
        "Some codes are reorganized for new implementations."
      ],
      "metadata": {
        "id": "wljJgyaTo5lw"
      }
    },
    {
      "cell_type": "code",
      "source": [
        "class CustomLabelEncoder(LabelEncoder):\n",
        "  def __init__(self, month_one_hot=True):\n",
        "      self.month_one_hot = month_one_hot\n",
        "  def fit(self, y, ordering: list):  # take an ordering list as an argument\n",
        "      y = column_or_1d(y, warn=True)\n",
        "      assert set(ordering) == set(pd.Series(y).unique())\n",
        "      self.classes_ = ordering\n",
        "      return self\n"
      ],
      "metadata": {
        "id": "YqdWvyVGr9D9"
      },
      "execution_count": 7,
      "outputs": []
    },
    {
      "cell_type": "code",
      "source": [
        "def basic_preprocessing(df, month_one_hot=True, normalize=True, exclude=True, binary_classification=True):\n",
        "  df.loc[df[\"BMI_category\"] == \"Normal \", \"BMI_category\"] = \"Normal\"\n",
        "  df.loc[df[\"BMI_category\"] == \"Obese \", \"BMI_category\"] = \"Obese\"\n",
        "  \n",
        "  df[\"BMI_log\"] = np.log(df[\"BMI\"])\n",
        "  df[\"Age_log\"] = np.log(df[\"Age\"])\n",
        "  def _normalize(data):\n",
        "      scaler = StandardScaler()\n",
        "      scaler.fit(data)\n",
        "      data = scaler.transform(data)\n",
        "      return data\n",
        "\n",
        "  if normalize:\n",
        "    numerical_cols = [\"BMI_log\", \"Age_log\", \"Age\", \"BMI\",\"D0_Titer_H1N1\",\"D0_Titer_H3N2\", \"D0_Titer_IBV_Yam\", \"D0_Titer_IBV_Vic\"]\n",
        "    df[numerical_cols] = _normalize(df[numerical_cols])\n",
        "\n",
        "  bmi_cat = df[\"BMI_category\"]\n",
        "  df2 = df.drop(\"BMI_category\", axis=1)\n",
        "  comorbidities = df[\"Comorbidities\"]\n",
        "  df2 = df2.drop(\"Comorbidities\", axis=1)\n",
        "  dose = df[\"Vaccine_dose\"]\n",
        "  df2 = df2.drop(\"Vaccine_dose\", axis=1)\n",
        "  month = None\n",
        "  if not month_one_hot:\n",
        "    month = df[\"Month_vaccinated\"]\n",
        "    df2 = df2.drop(\"Month_vaccinated\", axis=1)\n",
        "\n",
        "  pre_vac = df[\"PreVacc_status\"]\n",
        "  df2 = df2.drop(\"PreVacc_status\", axis=1)\n",
        "  pre_vac_year = df[\"PreVacc_status_year\"]\n",
        "  df2 = df2.drop(\"PreVacc_status_year\", axis=1)\n",
        "  h1n1 = df[\"SC_category_H1N1\"]\n",
        "  df2 = df2.drop(\"SC_category_H1N1\", axis=1)\n",
        "  h3n2 = df[\"SC_category_H3N2\"]\n",
        "  df2 = df2.drop(\"SC_category_H3N2\", axis=1)\n",
        "  yam = df[\"SC_category_IBV_Yam\"]\n",
        "  df2 = df2.drop(\"SC_category_IBV_Yam\", axis=1)\n",
        "  vic = df[\"SC_category_IBV_Vic\"]\n",
        "  df2 = df2.drop(\"SC_category_IBV_Vic\", axis=1)\n",
        "  comp = df[\"Composite_SC_category\"]\n",
        "  df2 = df2.drop(\"Composite_SC_category\", axis=1)\n",
        "  base = df[\"Baseline_category_Num_SeroPos_strains\"]\n",
        "  df2 = df2.drop(\"Baseline_category_Num_SeroPos_strains\", axis=1)\n",
        "\n",
        "  for i, column in enumerate(df2.select_dtypes(exclude=[\"number\"]).iloc[:,2:].columns):\n",
        "    temp = pd.get_dummies(df2[column], drop_first=True, prefix=column)\n",
        "    df = df.drop(column, axis=1)\n",
        "    if i != 0 :\n",
        "      x = x.join(temp)\n",
        "    else:\n",
        "      x = temp\n",
        "  \n",
        "  # mapping from columns to correct ordering\n",
        "  ordering_dict = {\"BMI_category\": (bmi_cat, [\"Lean\", \"Normal\", \"Overweight\", \"Obese\"]),\n",
        "                 \"Comorbidities\": (comorbidities, [\"No\", \"Yes\"]),\n",
        "                 \"Vaccine_dose\": (dose, [\"Standard\", \"High\"]),\n",
        "                 \"PreVacc_status\": (pre_vac, [\"Naive\", \"Prevaccinated\"]),\n",
        "                 \"PreVacc_status_year\": (pre_vac_year, [\"Year_3\", \"Year_0\"]),\n",
        "                 \"SC_category_H1N1\": (h1n1, [\"None\", \"Low\", \"High\"]),\n",
        "                 \"SC_category_H3N2\": (h3n2, [\"None\", \"Low\", \"High\"]),\n",
        "                 \"SC_category_IBV_Yam\": (yam, [\"None\", \"Low\", \"High\"]),\n",
        "                 \"SC_category_IBV_Vic\": (vic, [\"None\", \"Low\", \"High\"]),\n",
        "                 \"Composite_SC_category\": (comp, [\"None\", \"Low\", \"High\"]),\n",
        "                 \"Baseline_category_Num_SeroPos_strains\": (base, [\"Low\", \"High\"])}  \n",
        "  if not month_one_hot:\n",
        "    ordering_dict[\"Month_vaccinated\"] = (month, [\"Sep.\", \"Oct.\", \"Nov.\", \"Dec.\", \"Jan.\", \"Feb.\"])\n",
        "  if binary_classification:\n",
        "    ordering_dict[\"SC_category_H1N1\"][1].pop(0)\n",
        "    ordering_dict[\"SC_category_H3N2\"][1].pop(0)\n",
        "    ordering_dict[\"SC_category_IBV_Yam\"][1].pop(0)\n",
        "    ordering_dict[\"SC_category_IBV_Vic\"][1].pop(0)\n",
        "    ordering_dict[\"Composite_SC_category\"][1].pop(0)\n",
        "    h1n1.loc[h1n1 == \"None\"] = \"Low\"\n",
        "    h3n2.loc[h3n2 == \"None\"] = \"Low\"\n",
        "    yam.loc[yam == \"None\"] = \"Low\"\n",
        "    vic.loc[vic == \"None\"] = \"Low\"\n",
        "    comp.loc[comp == \"None\"] = \"Low\"\n",
        "\n",
        "  lencoder = CustomLabelEncoder(month_one_hot)\n",
        "  for key, value in ordering_dict.items():\n",
        "    lencoder.fit(value[0], value[1])\n",
        "    df.loc[:, key] = lencoder.transform(value[0])\n",
        "\n",
        "  new = df.join(x)\n",
        "  new_UGA4 = new[new.iloc[:,0] == \"UGA4\"]  # get two versions of the data: UGA4 and full version; drop the ID columns\n",
        "  new_UGA4_strip = new_UGA4.iloc[:,2:]\n",
        "  if exclude:\n",
        "    new = new[new.iloc[:,0] != \"UGA4\"]\n",
        "  new_strip = new.iloc[:,2:]\n",
        "  return new_strip, new_UGA4_strip"
      ],
      "metadata": {
        "id": "tJ4NU1T9pWUY"
      },
      "execution_count": 17,
      "outputs": []
    },
    {
      "cell_type": "code",
      "source": [
        "def io_selector(data: DataFrame, \n",
        "                input_columns: Union[list, str] = None, # 'all' for all input columns. Used for feature selection\n",
        "                output_column: str = None, \n",
        "                month_one_hot: bool = True,\n",
        "                split_feature_label=True) -> Union[Tuple[pd.DataFrame, ...], pd.DataFrame]:\n",
        "  \n",
        "  \n",
        "  complete_input_columns = [\"Age_log\", \"BMI_log\", \"BMI_category\", \"Gender_Male\", \"Race_White\", \n",
        "                              \"Comorbidities\", \"PreVacc_status\", \"PreVacc_status_year\", \n",
        "                             \"Vaccine_dose\", \"D0_Titer_H1N1\", \n",
        "                           \"D0_Titer_H3N2\", \"D0_Titer_IBV_Yam\", \"D0_Titer_IBV_Vic\"]\n",
        "\n",
        "  default_input_columns = [\"Age_log\", \"BMI_log\", \"Gender_Male\", \"Race_White\", \"Comorbidities\", \n",
        "                           \"PreVacc_status\", \"Vaccine_dose\",\n",
        "                           \"D0_Titer_H1N1\", \"D0_Titer_H3N2\", \"D0_Titer_IBV_Yam\", \n",
        "                           \"D0_Titer_IBV_Vic\"]\n",
        "  name_mapping = {\"Gender\": [\"Gender_Male\"], \"Race\": [\"Race_White\"]}\n",
        "  if month_one_hot:\n",
        "    default_input_columns.extend([\"Month_vaccinated_Jan.\", \"Month_vaccinated_Feb.\",\n",
        "                           \"Month_vaccinated_Sep.\", \"Month_vaccinated_Oct.\",\n",
        "                           \"Month_vaccinated_Nov.\"])\n",
        "    complete_input_columns.extend([\"Month_vaccinated_Jan.\", \"Month_vaccinated_Feb.\",\n",
        "                           \"Month_vaccinated_Sep.\", \"Month_vaccinated_Oct.\",\n",
        "                           \"Month_vaccinated_Nov.\"])\n",
        "    name_mapping[\"Month_vaccinated\"] = [\"Month_vaccinated_Jan.\",\n",
        "                                       \"Month_vaccinated_Feb.\",\n",
        "                                       \"Month_vaccinated_Sep.\", \n",
        "                                       \"Month_vaccinated_Oct.\", \n",
        "                                       \"Month_vaccinated_Nov.\"]\n",
        "  else:\n",
        "    default_input_columns.append(\"Month_vaccinated\")\n",
        "    complete_input_columns.append(\"Month_vaccinated\")\n",
        "    \n",
        "                           \n",
        "  default_output = [\"Composite_seroconversion\"]\n",
        "\n",
        "  \n",
        "  if input_columns is None: \n",
        "    input_columns = default_input_columns\n",
        "  elif input_columns == \"all\":\n",
        "    input_columns = complete_input_columns\n",
        "  else:\n",
        "    temp = []\n",
        "    for item in input_columns:\n",
        "      if item in name_mapping:\n",
        "        temp.extend(name_mapping[item])\n",
        "      else:\n",
        "        temp.append(item)\n",
        "    input_columns = temp\n",
        "  if output_column is None:\n",
        "    output_column = default_output\n",
        "  x = data[input_columns]\n",
        "  y = data[output_column]\n",
        "  if not split_feature_label:\n",
        "    return x.join(y)\n",
        "  return (x, y)\n"
      ],
      "metadata": {
        "id": "LCEARD0OtVD-"
      },
      "execution_count": 45,
      "outputs": []
    },
    {
      "cell_type": "code",
      "source": [
        "# handles data converting and saving. Use feature_selection_dataset_wrapper if feature selection is needed\n",
        "def dataset_wrapper(train: DataFrame,\n",
        "                    test: DataFrame, \n",
        "                    input_columns: Union[list,str] = None, \n",
        "                    output_column: str = None,\n",
        "                    save: bool = False,  # whether to save data in cwd\n",
        "                    name_extension: str = \"\",  # name extension for file save\n",
        "                    to_numpy: bool = True  # whether to convert to numpy, set to false if feature selection is needed\n",
        "                    ) -> Tuple[np.ndarray, np.ndarray, np.ndarray, np.ndarray, np.ndarray, np.ndarray]:  # returns X_train, y_train, X_dev, y_dev, X_test, y_test\n",
        "  X_train, y_train = io_selector(train, input_columns, output_column)\n",
        "  X_test, y_test = io_selector(test, input_columns, output_column)\n",
        "  if save:\n",
        "    X_train.to_csv(\"X_train_\" + name_extension + \".csv\", index=False)\n",
        "    y_train.to_csv(\"y_train_\" + name_extension + \".csv\", index=False)\n",
        "    X_test.to_csv(\"X_test_\" + name_extension + \".csv\", index=False)\n",
        "    y_test.to_csv(\"y_test_\" + name_extension + \".csv\", index=False)\n",
        "  if to_numpy:\n",
        "    X_train = X_train.to_numpy()\n",
        "    y_train = y_train.to_numpy()\n",
        "    X_test = X_test.to_numpy()\n",
        "    y_test = y_test.to_numpy()\n",
        "  return X_train, y_train, X_test, y_test"
      ],
      "metadata": {
        "id": "_Re1795ueu5Q"
      },
      "execution_count": 28,
      "outputs": []
    },
    {
      "cell_type": "markdown",
      "source": [
        "# Feature Selection using Weka"
      ],
      "metadata": {
        "id": "gBsTpfCHQln8"
      }
    },
    {
      "cell_type": "code",
      "source": [
        "def convert_io_into_arff(df: pd.DataFrame):\n",
        "  arff.dump(\"data.arff\",\n",
        "            df.values,\n",
        "            relation=df.columns[-1],\n",
        "            names=df.columns\n",
        "            )"
      ],
      "metadata": {
        "id": "VhfP4gfcG_Mu"
      },
      "execution_count": 11,
      "outputs": []
    },
    {
      "cell_type": "code",
      "source": [
        "# https://github.com/fracpete/python-weka-wrapper3-examples/blob/master/src/wekaexamples/attribute_selection/attribute_selection.py\n",
        "def feature_selection(filename: str = \"data.arff\", result_type: str = \"rank\"): \n",
        "  loader = Loader(\"weka.core.converters.ArffLoader\")\n",
        "  data = loader.load_file(filename)\n",
        "  data.class_is_last()\n",
        "  evaluation = ASEvaluation(classname=\"weka.attributeSelection.WrapperSubsetEval\", options=[\"-B\", \"weka.classifiers.functions.LinearRegression\", \"-F\", \"10\"])\n",
        "  attsel = AttributeSelection()\n",
        "  attsel.folds(10)\n",
        "  attsel.crossvalidation(True)\n",
        "  attsel.evaluator(evaluation)\n",
        "  if result_type == \"filtered\":\n",
        "    search = ASSearch(classname=\"weka.attributeSelection.BestFirst\", options=[\"-D\", \"1\", \"-N\", \"7\"])\n",
        "    attsel.search(search)\n",
        "    attsel.select_attributes(data)\n",
        "    print(\"# attributes: \" + str(attsel.number_attributes_selected))\n",
        "    print(\"attributes (as numpy array): \" + str(attsel.selected_attributes))\n",
        "    print(\"attributes (as list): \" + str(list(attsel.selected_attributes)))\n",
        "    print(\"result string:\\n\" + attsel.results_string)\n",
        "    print(\"transformed header:\\n\" + str(evaluation.transformed_header()))\n",
        "    print(\"\\ntransformed data:\\n\" + str(evaluation.transformed_data(data)))\n",
        "    print(\"\\nconvert instance:\\n\" + str(evaluation.convert_instance(data.get_instance(0))))\n",
        "\n",
        "\n",
        "  elif result_type == \"rank\":\n",
        "    search = ASSearch(classname=\"weka.attributeSelection.Ranker\")\n",
        "    attsel = AttributeSelection()\n",
        "    attsel.ranking(True)\n",
        "    attsel.search(search)\n",
        "    attsel.select_attributes(data)\n",
        "    print(\"ranked attributes:\\n\" + str(attsel.ranked_attributes))\n",
        "    print(\"result string:\\n\" + attsel.results_string)\n"
      ],
      "metadata": {
        "id": "hcyYiJwUcRA7"
      },
      "execution_count": 19,
      "outputs": []
    },
    {
      "cell_type": "code",
      "source": [
        "def feature_selection_dataset_wrapper(train: DataFrame,\n",
        "                    test: DataFrame, \n",
        "                    input_columns: Union[list,str] = None, \n",
        "                    output_column: str = None,\n",
        "                    result_type: str = \"rank\", # result_type: rank: ranking of all attribute; filtered: resulting attributes\n",
        "                    save: bool = False,  # whether to save data in cwd\n",
        "                    name_extension: str = \"\",  # name extension for file save\n",
        "                    to_numpy: bool = True  # whether to convert to numpy, set to false if feature selection is needed\n",
        "                    ) -> Tuple[np.ndarray, np.ndarray, np.ndarray, np.ndarray, np.ndarray, np.ndarray]:\n",
        "    \n",
        "  train_df = io_selector(train, input_columns, output_column, split_feature_label=False)\n",
        "  test_df = io_selector(test, input_columns, output_column, split_feature_label=False)\n",
        "  convert_io_into_arff(train_df)\n",
        "  feature_selection(result_type=result_type)\n",
        "  \n",
        "  \n",
        "  \n",
        "  '''if save:\n",
        "    X_train.to_csv(\"X_train_\" + name_extension + \".csv\", index=False)\n",
        "    y_train.to_csv(\"y_train_\" + name_extension + \".csv\", index=False)\n",
        "    X_test.to_csv(\"X_test_\" + name_extension + \".csv\", index=False)\n",
        "    y_test.to_csv(\"y_test_\" + name_extension + \".csv\", index=False)\n",
        "  if to_numpy:\n",
        "    X_train = X_train.to_numpy()\n",
        "    y_train = y_train.to_numpy()\n",
        "    X_test = X_test.to_numpy()\n",
        "    y_test = y_test.to_numpy()\n",
        "  return X_train, y_train, X_test, y_test'''"
      ],
      "metadata": {
        "id": "IMPa9WawGy3t"
      },
      "execution_count": 31,
      "outputs": []
    },
    {
      "cell_type": "code",
      "source": [
        "jvm.start()"
      ],
      "metadata": {
        "colab": {
          "base_uri": "https://localhost:8080/"
        },
        "id": "uhWkABk7_o_3",
        "outputId": "b27bc1c0-8cad-419c-dec1-7b7366f4fb00"
      },
      "execution_count": 14,
      "outputs": [
        {
          "output_type": "stream",
          "name": "stderr",
          "text": [
            "DEBUG:weka.core.jvm:Adding bundled jars\n",
            "DEBUG:weka.core.jvm:Classpath=['/usr/local/lib/python3.7/dist-packages/javabridge/jars/rhino-1.7R4.jar', '/usr/local/lib/python3.7/dist-packages/javabridge/jars/runnablequeue.jar', '/usr/local/lib/python3.7/dist-packages/javabridge/jars/cpython.jar', '/usr/local/lib/python3.7/dist-packages/weka/lib/python-weka-wrapper.jar', '/usr/local/lib/python3.7/dist-packages/weka/lib/weka.jar']\n",
            "DEBUG:weka.core.jvm:MaxHeapSize=default\n",
            "DEBUG:weka.core.jvm:Package support disabled\n"
          ]
        }
      ]
    },
    {
      "cell_type": "code",
      "source": [
        "df = pd.read_csv(\"fluvacc metadata - UGA1-5 - 1368 entries with clear vacc status - for figures.txt\", sep=\"\\t\")  ##TODO: put the name of the file here\n",
        "train_df, test_df = basic_preprocessing(df, normalize=False)\n",
        "feature_selection_dataset_wrapper(train_df, test_df, input_columns=\"all\", output_column=\"Composite_SC_category\", result_type=\"filtered\")"
      ],
      "metadata": {
        "colab": {
          "base_uri": "https://localhost:8080/"
        },
        "id": "EvDJmUQTzlTk",
        "outputId": "dee56683-249f-4eb9-ec8a-4dbcb3a7eb5a"
      },
      "execution_count": 22,
      "outputs": [
        {
          "output_type": "stream",
          "name": "stderr",
          "text": [
            "/usr/local/lib/python3.7/dist-packages/pandas/core/indexing.py:1732: SettingWithCopyWarning: \n",
            "A value is trying to be set on a copy of a slice from a DataFrame\n",
            "\n",
            "See the caveats in the documentation: https://pandas.pydata.org/pandas-docs/stable/user_guide/indexing.html#returning-a-view-versus-a-copy\n",
            "  self._setitem_single_block(indexer, value, name)\n"
          ]
        },
        {
          "output_type": "stream",
          "name": "stdout",
          "text": [
            "# attributes: 6\n",
            "attributes (as numpy array): [ 6  9 11 12 15 16 18]\n",
            "attributes (as list): [6, 9, 11, 12, 15, 16, 18]\n",
            "result string:\n",
            "\n",
            "\n",
            "=== Attribute Selection on all input data ===\n",
            "\n",
            "Search Method:\n",
            "\tBest first.\n",
            "\tStart set: no attributes\n",
            "\tSearch direction: forward\n",
            "\tStale search after 7 node expansions\n",
            "\tTotal number of subsets evaluated: 166\n",
            "\tMerit of best subset found:    0.312\n",
            "\n",
            "Attribute Subset Evaluator (supervised, Class (numeric): 19 Composite_SC_category):\n",
            "\tWrapper Subset Evaluator\n",
            "\tLearning scheme: weka.classifiers.functions.LinearRegression\n",
            "\tScheme options: -S 0 -R 1.0E-8 -num-decimal-places 4 \n",
            "\tSubset evaluation: RMSE\n",
            "\tNumber of folds for accuracy estimation: 10\n",
            "\n",
            "Selected attributes: 7,10,12,13,16,17 : 6\n",
            "                     PreVacc_status\n",
            "                     D0_Titer_H1N1\n",
            "                     D0_Titer_IBV_Yam\n",
            "                     D0_Titer_IBV_Vic\n",
            "                     Month_vaccinated_Sep.\n",
            "                     Month_vaccinated_Oct.\n",
            "\n",
            "\n",
            "=== Attribute selection 10 fold cross-validation seed: 1 ===\n",
            "\n",
            "number of folds (%)  attribute\n",
            "           0(  0 %)    1 Age\n",
            "           0(  0 %)    2 BMI\n",
            "           0(  0 %)    3 BMI_category\n",
            "           0(  0 %)    4 Gender_Male\n",
            "           0(  0 %)    5 Race_White\n",
            "           0(  0 %)    6 Comorbidities\n",
            "          10(100 %)    7 PreVacc_status\n",
            "           0(  0 %)    8 PreVacc_status_year\n",
            "           0(  0 %)    9 Vaccine_dose\n",
            "          10(100 %)   10 D0_Titer_H1N1\n",
            "           1( 10 %)   11 D0_Titer_H3N2\n",
            "           7( 70 %)   12 D0_Titer_IBV_Yam\n",
            "          10(100 %)   13 D0_Titer_IBV_Vic\n",
            "           1( 10 %)   14 Month_vaccinated_Jan.\n",
            "           0(  0 %)   15 Month_vaccinated_Feb.\n",
            "           4( 40 %)   16 Month_vaccinated_Sep.\n",
            "           9( 90 %)   17 Month_vaccinated_Oct.\n",
            "           2( 20 %)   18 Month_vaccinated_Nov.\n",
            "\n",
            "transformed header:\n",
            "None\n",
            "\n",
            "transformed data:\n",
            "None\n",
            "\n",
            "convert instance:\n",
            "None\n"
          ]
        }
      ]
    },
    {
      "cell_type": "code",
      "source": [
        "train_df[\"Composite_SC_category\"].unique()"
      ],
      "metadata": {
        "colab": {
          "base_uri": "https://localhost:8080/"
        },
        "id": "83MU3HrUIcVg",
        "outputId": "2dfa66ff-5f91-41c1-c2f8-d11268396fbf"
      },
      "execution_count": 25,
      "outputs": [
        {
          "output_type": "execute_result",
          "data": {
            "text/plain": [
              "array([0, 1])"
            ]
          },
          "metadata": {},
          "execution_count": 25
        }
      ]
    },
    {
      "cell_type": "code",
      "source": [
        "from sklearn.linear_model import LinearRegression, SGDRegressor, SGDClassifier, LogisticRegression\n",
        "from sklearn.ensemble import RandomForestClassifier, RandomForestRegressor\n",
        "from sklearn.svm import SVC, SVR\n",
        "from sklearn.neighbors import KNeighborsRegressor, KNeighborsClassifier\n",
        "\n",
        "def train_wrapper(X_train: np.ndarray,  # dataset\n",
        "                  y_train: np.ndarray,\n",
        "                # Universal parameters\n",
        "                method: str = None,  # model name\n",
        "                random_state: int = 10,  # random seed\n",
        "                model_path: str = None,  # path to save the model, no saving if None\n",
        "                n_jobs: int = -1,  # number of CPUs to use for some models. -1 means all processors\n",
        "                max_iter: int = 10000,  # max number of iterations for some models, set to -1 for SV to impose no limits \n",
        "                class_weight: Union[dict, str] = None,  # weight of each class or balanced\n",
        "                penalty: str = \"l2\",  # logistic has the option of no penalty \"None\"\n",
        "                # Model specific parameters:\n",
        "                # SGD Regressor/Classifier\n",
        "                loss: str = \"squared_error\",\n",
        "                alpha: float = 0.01,\n",
        "                l1_ratio: float = 0.15,\n",
        "                SGD_epsilon: float = 0.1,\n",
        "                learning_rate: str = \"invscaling\",\n",
        "                eta0: float = 1e-2,\n",
        "                power_t: float = 0.25,\n",
        "                average: Union[bool, int] = False,\n",
        "                # KNN Regressor/Classifier\n",
        "                n_neighbors: int = 5,\n",
        "                weights: str = \"uniform\",\n",
        "                algorithm: str = \"brute\",\n",
        "                leaf_size: int = 30,\n",
        "                p: int = 2,\n",
        "                metric: Union[str, callable] = \"minkowski\",\n",
        "                metric_params: dict = None,\n",
        "                # Logistic Regression\n",
        "                dual: bool = False,\n",
        "                C: float = 1.0,\n",
        "                intercept_scaling: float = 1,\n",
        "                solver: str = \"lbfgs\",\n",
        "                multi_class: str = \"auto\",\n",
        "                # Random Forest Classifier/Regressor\n",
        "                n_estimates: int = 100,\n",
        "                criterion: str = \"squared_error\",\n",
        "                max_depth: int = None,\n",
        "                min_sample_split: Union[int, float] = 2,\n",
        "                min_samples_leaf: Union[int, float] = 1,\n",
        "                min_weight_fraction_leaf: float = 0.0,\n",
        "                max_features: Union[str, int, float] = \"auto\",\n",
        "                max_leaf_nodes: int = None,\n",
        "                min_impurity_decrease: float = 0.0,\n",
        "                bootstrap: bool = True,\n",
        "                oob_score: bool = True,\n",
        "                ccp_alpha: float = 0.0,\n",
        "                max_samples: Union[int,float] = None,\n",
        "                # SVC/SVR\n",
        "                kernel: str = \"rbf\",\n",
        "                degree: int = 3,\n",
        "                gamma: str = \"scale\",\n",
        "                coef0: float = 0.0,\n",
        "                shrinking: bool = True,\n",
        "                probability: bool = False,\n",
        "                decision_fuction_shape: str = \"ovr\",\n",
        "                break_ties: bool = False,\n",
        "                SVC_epsilon: float = 0.1,\n",
        "                ):  # returns a trained model\n",
        "  random.seed(random_state)\n",
        "  model = LinearRegression()\n",
        "  if method == \"LR\":\n",
        "    model = LinearRegression()\n",
        "  elif method == \"SGDR\":\n",
        "    model = SGDRegressor(loss=loss, penalty=penalty, alpha=alpha, l1_ratio=l1_ratio, max_iter=max_iter, verbose=0, epsilon=SGD_epsilon, random_state=random_state, learning_rate=learning_rate, eta0=eta0, power_t=power_t, average=average)\n",
        "  elif method == \"KNNR\":\n",
        "    model = KNeighborsRegressor(n_neighbors=n_neighbors, weights=weights, algorithm=algorithm, leaf_size=leaf_size, p=p, metric=metric)\n",
        "  elif method == \"SGDC\":\n",
        "    model = SGDClassifier(loss=loss, penalty=penalty, alpha=alpha, l1_ratio=l1_ratio, max_iter=max_iter, verbose=0, epsilon=SGD_epsilon, n_jobs=n_jobs, random_state=random_state, learning_rate=learning_rate, eta0=eta0, power_t=power_t, class_weight=class_weight, average=average)\n",
        "  elif method == \"KNNC\":\n",
        "    model = KNeighborsClassifier(n_neighbors=n_neighbors, weights=weights, algorithm=algorithm, leaf_size=leaf_size, p=p, metric=metric)\n",
        "  elif method == \"LOGR\":\n",
        "    model = LogisticRegression(penalty=penalty, dual=dual, C=C, intercept_scaling=intercept_scaling, class_weight=class_weight, random_state=random_state, solver=solver, max_iter=max_iter, multi_class=multi_class, verbose=1, n_jobs=n_jobs, l1_ratio=l1_ratio)\n",
        "  elif model == \"RFC\":\n",
        "    model = RandomForestClassifier(n_estimators=n_estimates, criterion=criterion, max_depth=max_depth, min_samples_split=min_sample_split, min_samples_leaf=min_samples_leaf, min_weight_fraction_leaf=min_weight_fraction_leaf, max_features=max_features, max_leaf_nodes=max_leaf_nodes, min_impurity_decrease=min_impurity_decrease, bootstrap=bootstrap, oob_score=oob_score, n_jobs=n_jobs, random_state=random_state, verbose=1, class_weight=class_weight, ccp_alpha=ccp_alpha, max_samples=max_samples)\n",
        "  elif model == \"RFR\":\n",
        "    model = RandomForestRegressor(n_estimators=n_estimates, criterion=criterion, max_depth=max_depth, min_samples_split=min_sample_split, min_samples_leaf=min_samples_leaf, min_weight_fraction_leaf=min_weight_fraction_leaf, max_features=max_features, max_leaf_nodes=max_leaf_nodes, min_impurity_decrease=min_impurity_decrease, bootstrap=bootstrap, oob_score=oob_score, n_jobs=n_jobs, random_state=random_state, verbose=1, ccp_alpha=ccp_alpha, max_samples=max_samples)\n",
        "  elif method == \"SVC\":\n",
        "    model = SVC(C=C, kernel=kernel, degree=degree, gamma=gamma, coef0=coef0, shrinking=shrinking, probability=probability, class_weight=class_weight, verbose=1, max_iter=max_iter, decision_function_shape=decision_fuction_shape, break_ties=break_ties, random_state=random_state)\n",
        "  elif method == \"SVR\":\n",
        "    model = SVR(kernel=kernel, degree=degree, gamma=gamma, coef0=coef0, C=C, shrinking=shrinking, epsilon=SVC_epsilon, verbose=1, max_iter=max_iter)\n",
        "  model.fit(X_train,y_train)\n",
        "  if model_path:\n",
        "    with open(method + uuid.uuid1()[:6] + \".pkl\", \"wb\") as f:\n",
        "      pickle.dump(model, f)\n",
        "  return model"
      ],
      "metadata": {
        "id": "9Y2UgJoMH4tc"
      },
      "execution_count": 33,
      "outputs": []
    },
    {
      "cell_type": "markdown",
      "source": [
        "Feature selection normalized:"
      ],
      "metadata": {
        "id": "zytkLJeuM8S5"
      }
    },
    {
      "cell_type": "code",
      "source": [
        "df = pd.read_csv(\"fluvacc metadata - UGA1-5 - 1368 entries with clear vacc status - for figures.txt\", sep=\"\\t\")  ##TODO: put the name of the file here\n",
        "train_df, test_df = basic_preprocessing(df, normalize=True)\n",
        "X_train, y_train, X_test, y_test = dataset_wrapper(train_df, test_df, input_columns=[\"PreVacc_status\", \n",
        "                                                                                     \"D0_Titer_H1N1\",  \n",
        "                                                                                     \"D0_Titer_IBV_Yam\", \n",
        "                                                                                     \"D0_Titer_IBV_Vic\", \n",
        "                                                                                     \"Month_vaccinated_Jan.\",\n",
        "                                                                                     \"Month_vaccinated_Feb.\",\n",
        "                                                                                     \"Month_vaccinated_Sep.\",\n",
        "                                                                                     \"Month_vaccinated_Oct.\",\n",
        "                                                                                     \"Month_vaccinated_Nov.\"], \n",
        "                                                   output_column= \"Composite_SC_category\")\n",
        "model_name_list = [\"LOGR\", \"KNNC\", \"SGDC\", \"RFC\", \"SVC\"]\n",
        "for model_name in model_name_list:\n",
        "  model = train_wrapper(X_train, y_train, method=model_name)\n",
        "  print(model_name,\"has accuracy \", model.score(X_test, y_test))"
      ],
      "metadata": {
        "colab": {
          "base_uri": "https://localhost:8080/"
        },
        "id": "5MAWqVLtIURm",
        "outputId": "2c3ef21d-acab-4a9b-9fb4-f8049f773ff5"
      },
      "execution_count": 46,
      "outputs": [
        {
          "output_type": "stream",
          "name": "stdout",
          "text": [
            "LOGR has accuracy  0.7863636363636364\n",
            "KNNC has accuracy  0.7818181818181819\n",
            "SGDC has accuracy  0.7863636363636364\n",
            "RFC has accuracy  0.2112751986670537\n",
            "[LibSVM]SVC has accuracy  0.7863636363636364\n"
          ]
        },
        {
          "output_type": "stream",
          "name": "stderr",
          "text": [
            "/usr/local/lib/python3.7/dist-packages/pandas/core/indexing.py:1732: SettingWithCopyWarning: \n",
            "A value is trying to be set on a copy of a slice from a DataFrame\n",
            "\n",
            "See the caveats in the documentation: https://pandas.pydata.org/pandas-docs/stable/user_guide/indexing.html#returning-a-view-versus-a-copy\n",
            "  self._setitem_single_block(indexer, value, name)\n",
            "/usr/local/lib/python3.7/dist-packages/sklearn/linear_model/_logistic.py:1479: UserWarning: l1_ratio parameter is only used when penalty is 'elasticnet'. Got (penalty=l2)\n",
            "  \"(penalty={})\".format(self.penalty)\n",
            "[Parallel(n_jobs=-1)]: Using backend LokyBackend with 2 concurrent workers.\n",
            "[Parallel(n_jobs=-1)]: Done   1 out of   1 | elapsed:    0.0s finished\n"
          ]
        }
      ]
    },
    {
      "cell_type": "markdown",
      "source": [
        "feature selection unnormalized:"
      ],
      "metadata": {
        "id": "jnT7POTENIyj"
      }
    },
    {
      "cell_type": "code",
      "source": [
        "df = pd.read_csv(\"fluvacc metadata - UGA1-5 - 1368 entries with clear vacc status - for figures.txt\", sep=\"\\t\")  ##TODO: put the name of the file here\n",
        "train_df, test_df = basic_preprocessing(df, normalize=False)\n",
        "X_train, y_train, X_test, y_test = dataset_wrapper(train_df, test_df, input_columns=[\"PreVacc_status\", \n",
        "                                                                                     \"D0_Titer_H1N1\",  \n",
        "                                                                                     \"D0_Titer_IBV_Yam\", \n",
        "                                                                                     \"D0_Titer_IBV_Vic\", \n",
        "                                                                                     \"Month_vaccinated_Jan.\",\n",
        "                                                                                     \"Month_vaccinated_Feb.\",\n",
        "                                                                                     \"Month_vaccinated_Sep.\",\n",
        "                                                                                     \"Month_vaccinated_Oct.\",\n",
        "                                                                                     \"Month_vaccinated_Nov.\"], \n",
        "                                                   output_column= \"Composite_SC_category\")\n",
        "model_name_list = [\"LOGR\", \"KNNC\", \"SGDC\", \"RFC\", \"SVC\"]\n",
        "for model_name in model_name_list:\n",
        "  model = train_wrapper(X_train, y_train, method=model_name)\n",
        "  print(model_name,\"has accuracy \", model.score(X_test, y_test))"
      ],
      "metadata": {
        "colab": {
          "base_uri": "https://localhost:8080/"
        },
        "id": "3wYpcT43NAnL",
        "outputId": "cfb0a9e9-001a-4c41-eca2-d7cf97b104bf"
      },
      "execution_count": 48,
      "outputs": [
        {
          "output_type": "stream",
          "name": "stderr",
          "text": [
            "/usr/local/lib/python3.7/dist-packages/pandas/core/indexing.py:1732: SettingWithCopyWarning: \n",
            "A value is trying to be set on a copy of a slice from a DataFrame\n",
            "\n",
            "See the caveats in the documentation: https://pandas.pydata.org/pandas-docs/stable/user_guide/indexing.html#returning-a-view-versus-a-copy\n",
            "  self._setitem_single_block(indexer, value, name)\n",
            "/usr/local/lib/python3.7/dist-packages/sklearn/linear_model/_logistic.py:1479: UserWarning: l1_ratio parameter is only used when penalty is 'elasticnet'. Got (penalty=l2)\n",
            "  \"(penalty={})\".format(self.penalty)\n",
            "[Parallel(n_jobs=-1)]: Using backend LokyBackend with 2 concurrent workers.\n",
            "[Parallel(n_jobs=-1)]: Done   1 out of   1 | elapsed:    0.3s finished\n"
          ]
        },
        {
          "output_type": "stream",
          "name": "stdout",
          "text": [
            "LOGR has accuracy  0.7863636363636364\n",
            "KNNC has accuracy  0.7090909090909091\n",
            "SGDC has accuracy  0.7181818181818181\n",
            "RFC has accuracy  0.2112751986670538\n",
            "[LibSVM]SVC has accuracy  0.7181818181818181\n"
          ]
        }
      ]
    },
    {
      "cell_type": "markdown",
      "source": [
        "default features normalized:"
      ],
      "metadata": {
        "id": "l9Dw21gqMj4r"
      }
    },
    {
      "cell_type": "code",
      "source": [
        "df = pd.read_csv(\"fluvacc metadata - UGA1-5 - 1368 entries with clear vacc status - for figures.txt\", sep=\"\\t\")  ##TODO: put the name of the file here\n",
        "train_df, test_df = basic_preprocessing(df, normalize=True)\n",
        "X_train, y_train, X_test, y_test = dataset_wrapper(train_df, test_df, \n",
        "                                                   output_column= \"Composite_SC_category\")\n",
        "model_name_list = [\"LOGR\", \"KNNC\", \"SGDC\", \"RFC\", \"SVC\"]\n",
        "for model_name in model_name_list:\n",
        "  model = train_wrapper(X_train, y_train, method=model_name)\n",
        "  print(model_name,\"has accuracy \", model.score(X_test, y_test))"
      ],
      "metadata": {
        "colab": {
          "base_uri": "https://localhost:8080/"
        },
        "id": "zmZW2QqiJXJF",
        "outputId": "d14c87da-2aa6-4b74-8ada-7f42d539e78d"
      },
      "execution_count": 47,
      "outputs": [
        {
          "output_type": "stream",
          "name": "stdout",
          "text": [
            "LOGR has accuracy  0.8022727272727272\n",
            "KNNC has accuracy  0.759090909090909\n",
            "SGDC has accuracy  0.7863636363636364\n",
            "RFC has accuracy  0.2298502245105043\n",
            "[LibSVM]SVC has accuracy  0.7818181818181819\n"
          ]
        },
        {
          "output_type": "stream",
          "name": "stderr",
          "text": [
            "/usr/local/lib/python3.7/dist-packages/pandas/core/indexing.py:1732: SettingWithCopyWarning: \n",
            "A value is trying to be set on a copy of a slice from a DataFrame\n",
            "\n",
            "See the caveats in the documentation: https://pandas.pydata.org/pandas-docs/stable/user_guide/indexing.html#returning-a-view-versus-a-copy\n",
            "  self._setitem_single_block(indexer, value, name)\n",
            "/usr/local/lib/python3.7/dist-packages/sklearn/linear_model/_logistic.py:1479: UserWarning: l1_ratio parameter is only used when penalty is 'elasticnet'. Got (penalty=l2)\n",
            "  \"(penalty={})\".format(self.penalty)\n",
            "[Parallel(n_jobs=-1)]: Using backend LokyBackend with 2 concurrent workers.\n",
            "[Parallel(n_jobs=-1)]: Done   1 out of   1 | elapsed:    0.0s finished\n"
          ]
        }
      ]
    },
    {
      "cell_type": "markdown",
      "source": [
        "default features unnormalized:"
      ],
      "metadata": {
        "id": "vWfGKtApNONq"
      }
    },
    {
      "cell_type": "code",
      "source": [
        "df = pd.read_csv(\"fluvacc metadata - UGA1-5 - 1368 entries with clear vacc status - for figures.txt\", sep=\"\\t\")  ##TODO: put the name of the file here\n",
        "train_df, test_df = basic_preprocessing(df, normalize=False)\n",
        "X_train, y_train, X_test, y_test = dataset_wrapper(train_df, test_df, \n",
        "                                                   output_column= \"Composite_SC_category\")\n",
        "model_name_list = [\"LOGR\", \"KNNC\", \"SGDC\", \"RFC\", \"SVC\"]\n",
        "for model_name in model_name_list:\n",
        "  model = train_wrapper(X_train, y_train, method=model_name)\n",
        "  print(model_name,\"has accuracy \", model.score(X_test, y_test))"
      ],
      "metadata": {
        "colab": {
          "base_uri": "https://localhost:8080/"
        },
        "id": "6MBM0yseLYVU",
        "outputId": "e73b3fd4-406e-4cde-c718-5d9251f4d1af"
      },
      "execution_count": 39,
      "outputs": [
        {
          "output_type": "stream",
          "name": "stderr",
          "text": [
            "/usr/local/lib/python3.7/dist-packages/pandas/core/indexing.py:1732: SettingWithCopyWarning: \n",
            "A value is trying to be set on a copy of a slice from a DataFrame\n",
            "\n",
            "See the caveats in the documentation: https://pandas.pydata.org/pandas-docs/stable/user_guide/indexing.html#returning-a-view-versus-a-copy\n",
            "  self._setitem_single_block(indexer, value, name)\n",
            "/usr/local/lib/python3.7/dist-packages/sklearn/linear_model/_logistic.py:1479: UserWarning: l1_ratio parameter is only used when penalty is 'elasticnet'. Got (penalty=l2)\n",
            "  \"(penalty={})\".format(self.penalty)\n",
            "[Parallel(n_jobs=-1)]: Using backend LokyBackend with 2 concurrent workers.\n",
            "[Parallel(n_jobs=-1)]: Done   1 out of   1 | elapsed:    0.9s finished\n"
          ]
        },
        {
          "output_type": "stream",
          "name": "stdout",
          "text": [
            "LOGR has accuracy  0.8022727272727272\n",
            "KNNC has accuracy  0.6863636363636364\n",
            "SGDC has accuracy  0.2818181818181818\n",
            "RFC has accuracy  0.22985022451050507\n",
            "[LibSVM]SVC has accuracy  0.7181818181818181\n"
          ]
        }
      ]
    },
    {
      "cell_type": "markdown",
      "source": [
        "NO log transform, normalized:"
      ],
      "metadata": {
        "id": "2y7xRLhuNW_e"
      }
    },
    {
      "cell_type": "code",
      "source": [
        "df = pd.read_csv(\"fluvacc metadata - UGA1-5 - 1368 entries with clear vacc status - for figures.txt\", sep=\"\\t\")  ##TODO: put the name of the file here\n",
        "train_df, test_df = basic_preprocessing(df, normalize=True)\n",
        "X_train, y_train, X_test, y_test = dataset_wrapper(train_df, test_df, input_columns= [\"Age\", \"BMI\", \"Gender_Male\", \"Race_White\", \"Comorbidities\", \n",
        "                           \"PreVacc_status\", \"Vaccine_dose\",\n",
        "                           \"D0_Titer_H1N1\", \"D0_Titer_H3N2\", \"D0_Titer_IBV_Yam\", \n",
        "                           \"D0_Titer_IBV_Vic\"],\n",
        "                                                   output_column= \"Composite_SC_category\")\n",
        "model_name_list = [\"LOGR\", \"KNNC\", \"SGDC\", \"RFC\", \"SVC\"]\n",
        "for model_name in model_name_list:\n",
        "  model = train_wrapper(X_train, y_train, method=model_name)\n",
        "  print(model_name,\"has accuracy \", model.score(X_test, y_test))"
      ],
      "metadata": {
        "colab": {
          "base_uri": "https://localhost:8080/"
        },
        "id": "39NkEVVjMIUo",
        "outputId": "5537787f-5fc2-4371-8792-d6f3f00359b2"
      },
      "execution_count": 44,
      "outputs": [
        {
          "output_type": "stream",
          "name": "stderr",
          "text": [
            "/usr/local/lib/python3.7/dist-packages/pandas/core/indexing.py:1732: SettingWithCopyWarning: \n",
            "A value is trying to be set on a copy of a slice from a DataFrame\n",
            "\n",
            "See the caveats in the documentation: https://pandas.pydata.org/pandas-docs/stable/user_guide/indexing.html#returning-a-view-versus-a-copy\n",
            "  self._setitem_single_block(indexer, value, name)\n",
            "/usr/local/lib/python3.7/dist-packages/sklearn/linear_model/_logistic.py:1479: UserWarning: l1_ratio parameter is only used when penalty is 'elasticnet'. Got (penalty=l2)\n",
            "  \"(penalty={})\".format(self.penalty)\n",
            "[Parallel(n_jobs=-1)]: Using backend LokyBackend with 2 concurrent workers.\n",
            "[Parallel(n_jobs=-1)]: Done   1 out of   1 | elapsed:    0.0s finished\n"
          ]
        },
        {
          "output_type": "stream",
          "name": "stdout",
          "text": [
            "LOGR has accuracy  0.7909090909090909\n",
            "KNNC has accuracy  0.775\n",
            "SGDC has accuracy  0.7840909090909091\n",
            "RFC has accuracy  0.19808546712389707\n",
            "[LibSVM]SVC has accuracy  0.7795454545454545\n"
          ]
        }
      ]
    },
    {
      "cell_type": "markdown",
      "source": [
        "No log transform unnormalized:"
      ],
      "metadata": {
        "id": "7GKickCDNfs2"
      }
    },
    {
      "cell_type": "code",
      "source": [
        "df = pd.read_csv(\"fluvacc metadata - UGA1-5 - 1368 entries with clear vacc status - for figures.txt\", sep=\"\\t\")  ##TODO: put the name of the file here\n",
        "train_df, test_df = basic_preprocessing(df, normalize=False)\n",
        "X_train, y_train, X_test, y_test = dataset_wrapper(train_df, test_df, input_columns= [\"Age\", \"BMI\", \"Gender_Male\", \"Race_White\", \"Comorbidities\", \n",
        "                           \"PreVacc_status\", \"Vaccine_dose\",\n",
        "                           \"D0_Titer_H1N1\", \"D0_Titer_H3N2\", \"D0_Titer_IBV_Yam\", \n",
        "                           \"D0_Titer_IBV_Vic\"],\n",
        "                                                   output_column= \"Composite_SC_category\")\n",
        "model_name_list = [\"LOGR\", \"KNNC\", \"SGDC\", \"RFC\", \"SVC\"]\n",
        "for model_name in model_name_list:\n",
        "  model = train_wrapper(X_train, y_train, method=model_name)\n",
        "  print(model_name,\"has accuracy \", model.score(X_test, y_test))"
      ],
      "metadata": {
        "colab": {
          "base_uri": "https://localhost:8080/"
        },
        "id": "zCD4BrcCLdvu",
        "outputId": "b7fad03c-15b4-4a76-87dd-4ef08f9d0f61"
      },
      "execution_count": 41,
      "outputs": [
        {
          "output_type": "stream",
          "name": "stderr",
          "text": [
            "/usr/local/lib/python3.7/dist-packages/pandas/core/indexing.py:1732: SettingWithCopyWarning: \n",
            "A value is trying to be set on a copy of a slice from a DataFrame\n",
            "\n",
            "See the caveats in the documentation: https://pandas.pydata.org/pandas-docs/stable/user_guide/indexing.html#returning-a-view-versus-a-copy\n",
            "  self._setitem_single_block(indexer, value, name)\n",
            "/usr/local/lib/python3.7/dist-packages/sklearn/linear_model/_logistic.py:1479: UserWarning: l1_ratio parameter is only used when penalty is 'elasticnet'. Got (penalty=l2)\n",
            "  \"(penalty={})\".format(self.penalty)\n",
            "[Parallel(n_jobs=-1)]: Using backend LokyBackend with 2 concurrent workers.\n",
            "[Parallel(n_jobs=-1)]: Done   1 out of   1 | elapsed:    0.4s finished\n"
          ]
        },
        {
          "output_type": "stream",
          "name": "stdout",
          "text": [
            "LOGR has accuracy  0.7931818181818182\n",
            "KNNC has accuracy  0.7272727272727273\n",
            "SGDC has accuracy  0.41363636363636364\n",
            "RFC has accuracy  0.19808546712389874\n",
            "[LibSVM]SVC has accuracy  0.7181818181818181\n"
          ]
        }
      ]
    }
  ]
}